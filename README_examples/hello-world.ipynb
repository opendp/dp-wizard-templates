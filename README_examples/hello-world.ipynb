{
 "cells": [
  {
   "cell_type": "markdown",
   "id": "6fc59e52",
   "metadata": {
    "lines_to_next_cell": 2
   },
   "source": [
    "# Hello World!\n",
    "\n",
    "Comments will be rendered as *Markdown*.\n",
    "The `+` and `-` below ensure that only one code cell is produced,\n",
    "even though the lines are not contiguous"
   ]
  },
  {
   "cell_type": "code",
   "execution_count": 1,
   "id": "bbe7eb3d",
   "metadata": {},
   "outputs": [
    {
     "name": "stdout",
     "output_type": "stream",
     "text": [
      "It is freezing!\n"
     ]
    }
   ],
   "source": [
    "def freeze_warning(temp_c):\n",
    "    \"\"\"\n",
    "    This demonstrates how larger blocks of code can be built compositionally.\n",
    "    \"\"\"\n",
    "    if temp_c < 0:\n",
    "        print(\"It is freezing!\")\n",
    "\n",
    "\n",
    "freeze_warning(-10)"
   ]
  },
  {
   "cell_type": "markdown",
   "id": "14a075e4",
   "metadata": {},
   "source": [
    "# Coda\n",
    "\n",
    "Extra computations that will not be rendered."
   ]
  },
  {
   "cell_type": "code",
   "execution_count": 2,
   "id": "2b2744e9",
   "metadata": {},
   "outputs": [
    {
     "data": {
      "text/plain": [
       "4"
      ]
     },
     "execution_count": 2,
     "metadata": {},
     "output_type": "execute_result"
    }
   ],
   "source": [
    "2 + 2"
   ]
  }
 ],
 "metadata": {
  "jupytext": {
   "cell_metadata_filter": "-all"
  },
  "kernelspec": {
   "display_name": "kernel_name",
   "language": "python",
   "name": "kernel_name"
  },
  "language_info": {
   "codemirror_mode": {
    "name": "ipython",
    "version": 3
   },
   "file_extension": ".py",
   "mimetype": "text/x-python",
   "name": "python",
   "nbconvert_exporter": "python",
   "pygments_lexer": "ipython3",
   "version": "3.10.16"
  },
  "title": "Hello World!"
 },
 "nbformat": 4,
 "nbformat_minor": 5
}
